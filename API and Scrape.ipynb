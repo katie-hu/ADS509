{
 "cells": [
  {
   "cell_type": "markdown",
   "id": "95952cac",
   "metadata": {},
   "source": [
    "# ADS 509 Module 1: APIs and Web Scraping\n",
    "\n",
    "This notebook has two parts. In the first part, you will scrape lyrics from AZLyrics.com. In the second part, you'll run code that verifies the completeness of your data pull. \n",
    "\n",
    "For this assignment you have chosen two musical artists who have at least 20 songs with lyrics on AZLyrics.com. We start with pulling some information and analyzing them.\n"
   ]
  },
  {
   "cell_type": "markdown",
   "id": "069b7ae8",
   "metadata": {},
   "source": [
    "## General Assignment Instructions\n",
    "\n",
    "These instructions are included in every assignment, to remind you of the coding standards for the class. Feel free to delete this cell after reading it. \n",
    "\n",
    "One sign of mature code is conforming to a style guide. We recommend the [Google Python Style Guide](https://google.github.io/styleguide/pyguide.html). If you use a different style guide, please include a cell with a link. \n",
    "\n",
    "Your code should be relatively easy-to-read, sensibly commented, and clean. Writing code is a messy process, so please be sure to edit your final submission. Remove any cells that are not needed or parts of cells that contain unnecessary code. Remove inessential `import` statements and make sure that all such statements are moved into the designated cell. \n",
    "\n",
    "Make use of non-code cells for written commentary. These cells should be grammatical and clearly written. In some of these cells you will have questions to answer. The questions will be marked by a \"Q:\" and will have a corresponding \"A:\" spot for you. *Make sure to answer every question marked with a `Q:` for full credit.* \n"
   ]
  },
  {
   "cell_type": "markdown",
   "id": "91c8969e",
   "metadata": {},
   "source": [
    "# Importing Libraries"
   ]
  },
  {
   "cell_type": "code",
   "execution_count": 160,
   "id": "185076b0",
   "metadata": {},
   "outputs": [],
   "source": [
    "import os\n",
    "import datetime\n",
    "import re\n",
    "\n",
    "# for the lyrics scrape section\n",
    "import requests\n",
    "import time\n",
    "from bs4 import BeautifulSoup\n",
    "from collections import defaultdict, Counter\n",
    "import random"
   ]
  },
  {
   "cell_type": "code",
   "execution_count": 161,
   "id": "a47e2d5f",
   "metadata": {},
   "outputs": [],
   "source": [
    "# Use this cell for any import statements you add\n",
    "\n",
    "import shutil"
   ]
  },
  {
   "cell_type": "markdown",
   "id": "45c13af3",
   "metadata": {},
   "source": [
    "---\n",
    "\n",
    "# Lyrics Scrape\n",
    "\n",
    "This section asks you to pull data by scraping www.AZLyrics.com. In the notebooks where you do that work you are asked to store the data in specific ways. "
   ]
  },
  {
   "cell_type": "code",
   "execution_count": 4,
   "id": "5bd7df77",
   "metadata": {},
   "outputs": [],
   "source": [
    "artists = {'robyn':\"https://www.azlyrics.com/r/robyn.html\",\n",
    "           'cher':\"https://www.azlyrics.com/c/cher.html\"} \n",
    "# we'll use this dictionary to hold both the artist name and the link on AZlyrics"
   ]
  },
  {
   "attachments": {},
   "cell_type": "markdown",
   "id": "c236c99b",
   "metadata": {},
   "source": [
    "## A Note on Rate Limiting\n",
    "\n",
    "The lyrics site, www.azlyrics.com, does not have an explicit maximum on number of requests in any one time, but in our testing it appears that too many requests in too short a time will cause the site to stop returning lyrics pages. (Entertainingly, the page that gets returned seems to only have the song title to [a Tom Jones song](https://www.azlyrics.com/lyrics/tomjones/itsnotunusual.html).) \n",
    "\n",
    "Whenever you call `requests.get` to retrieve a page, put a `time.sleep(5 + 10*random.random())` on the next line. This will help you not to get blocked. If you _do_ get blocked, which you can identify if the returned pages are not correct, just request a lyrics page through your browser. You'll be asked to perform a CAPTCHA and then your requests should start working again. \n",
    "\n",
    "## Part 1: Finding Links to Songs Lyrics\n",
    "\n",
    "That general artist page has a list of all songs for that artist with links to the individual song pages. \n",
    "\n",
    "Q: Take a look at the `robots.txt` page on www.azlyrics.com. (You can read more about these pages [here](https://developers.google.com/search/docs/advanced/robots/intro).) Is the scraping we are about to do allowed or disallowed by this page? How do you know? \n",
    "\n",
    "A: For the AZ Lyrics page, it has a noarchive tag that is in place to have specific documents and information that they don't want to be viewable to everybody. With this in place, the information allowed to be scraped is allowed by the page. There is no information that is being blocked and disabled for us to pull the lyrics and artist information that is needed for this assignment. If AZ Lyrics did not want their information to be scraped or used, there would be request errors showing that we are blocked from being able to pull the data. \n"
   ]
  },
  {
   "cell_type": "code",
   "execution_count": 27,
   "id": "ac9d31ec",
   "metadata": {},
   "outputs": [
    {
     "name": "stdout",
     "output_type": "stream",
     "text": [
      "If 200, request was successful:  200\n",
      "If 200, request was successful:  200\n"
     ]
    }
   ],
   "source": [
    "# Let's set up a dictionary of lists to hold our links\n",
    "lyrics_pages = defaultdict(list)\n",
    "\n",
    "for artist, artist_page in artists.items() :\n",
    "    # request the page and sleep\n",
    "    r = requests.get(artist_page)\n",
    "    time.sleep(5 + 10*random.random())\n",
    "\n",
    "    # Add to ensure that request was successful\n",
    "    print(\"If 200, request was successful: \", r.status_code)\n",
    "\n",
    "    # Parse HTML Data\n",
    "    soup = BeautifulSoup(r.content, \"html.parser\")\n",
    "    # This will loop through artist page and pull all links starting with /lyrics/ and append it to list\n",
    "    for links in soup.find_all(\"a\", href = re.compile(\"/lyrics/\")):\n",
    "        lyrics_pages[artist].append(links.attrs[\"href\"])\n",
    "    "
   ]
  },
  {
   "cell_type": "markdown",
   "id": "9c285ec1",
   "metadata": {},
   "source": [
    "Let's make sure we have enough lyrics pages to scrape. "
   ]
  },
  {
   "cell_type": "code",
   "execution_count": 28,
   "id": "ae4cda68",
   "metadata": {},
   "outputs": [],
   "source": [
    "for artist, lp in lyrics_pages.items() :\n",
    "    assert(len(set(lp)) > 20) "
   ]
  },
  {
   "cell_type": "code",
   "execution_count": 29,
   "id": "edca10d6",
   "metadata": {},
   "outputs": [
    {
     "name": "stdout",
     "output_type": "stream",
     "text": [
      "For robyn we have 104.\n",
      "The full pull will take for this artist will take 0.29 hours.\n",
      "For cher we have 318.\n",
      "The full pull will take for this artist will take 0.88 hours.\n"
     ]
    }
   ],
   "source": [
    "# Let's see how long it's going to take to pull these lyrics \n",
    "# if we're waiting `5 + 10*random.random()` seconds \n",
    "for artist, links in lyrics_pages.items() : \n",
    "    print(f\"For {artist} we have {len(links)}.\")\n",
    "    print(f\"The full pull will take for this artist will take {round(len(links)*10/3600,2)} hours.\")"
   ]
  },
  {
   "cell_type": "code",
   "execution_count": 30,
   "id": "1826ffb0",
   "metadata": {},
   "outputs": [
    {
     "name": "stdout",
     "output_type": "stream",
     "text": [
      "defaultdict(<class 'list'>, {'robyn': ['/lyrics/robyn/bumpyride.html', '/lyrics/robyn/inmyheart.html', '/lyrics/robyn/youvegotthatsomething.html', '/lyrics/robyn/doyouknowwhatittakes.html', '/lyrics/robyn/thelasttime.html', '/lyrics/robyn/justanothergirlfriend.html', '/lyrics/robyn/dontwantyouback.html', '/lyrics/robyn/doyoureallywantmeshowrespect.html', '/lyrics/robyn/how.html', '/lyrics/robyn/herewego.html', '/lyrics/robyn/wheredidourlovego.html', '/lyrics/robyn/robynishere.html', '/lyrics/robyn/iwish.html', '/lyrics/robyn/showmelove.html', '/lyrics/robyn/play.html', '/lyrics/robyn/myonlyreason.html', '/lyrics/robyn/underneaththeheart.html', '/lyrics/robyn/electric.html', '/lyrics/robyn/mytruth.html', '/lyrics/robyn/mainthing.html', '/lyrics/robyn/healthylove.html', '/lyrics/robyn/mondaymorning.html', '/lyrics/robyn/givingyouback.html', '/lyrics/robyn/88days.html', '/lyrics/robyn/longgone.html', '/lyrics/robyn/notontheinside.html', '/lyrics/robyn/universalwoman.html', '/lyrics/robyn/keepthisfireburning.html', '/lyrics/robyn/dontstopthemusic.html', '/lyrics/robyn/obaby.html', '/lyrics/robyn/blowmymind.html', '/lyrics/robyn/shouldhaveknown106828.html', '/lyrics/robyn/moonlight.html', '/lyrics/robyn/breakdownintermission.html', '/lyrics/robyn/aintnothing.html', '/lyrics/robyn/bigcity.html', '/lyrics/robyn/psycho.html', '/lyrics/robyn/stillyourgirl.html', '/lyrics/robyn/curriculumvitae.html', '/lyrics/robyn/konichiwabitches.html', '/lyrics/robyn/cobrastyle.html', '/lyrics/robyn/handleme.html', '/lyrics/robyn/bumlikeyou.html', '/lyrics/robyn/bemine.html', '/lyrics/robyn/witheveryheartbeat.html', '/lyrics/robyn/whosthatgirl.html', '/lyrics/robyn/bionicwoman.html', '/lyrics/robyn/crashandburngirl.html', '/lyrics/robyn/robotboy.html', '/lyrics/robyn/eclipse.html', '/lyrics/robyn/shouldhaveknown.html', '/lyrics/robyn/anytimeyoulike.html', '/lyrics/robyn/jackuoff.html', '/lyrics/robyn/tomteverkstan.html', '/lyrics/robyn/dontfuckingtellmewhattodo.html', '/lyrics/robyn/fembot.html', '/lyrics/robyn/dancingonmyown.html', '/lyrics/robyn/crywhenyougetolder.html', '/lyrics/robyn/dancehallqueen.html', '/lyrics/robyn/noneofdem.html', '/lyrics/robyn/hangwithmeacousticversion.html', '/lyrics/robyn/jagvetendejligrosa.html', '/lyrics/robyn/inmyeyes.html', '/lyrics/robyn/includemeout.html', '/lyrics/robyn/hangwithme.html', '/lyrics/robyn/lovekills.html', '/lyrics/robyn/wedancetothebeat.html', '/lyrics/robyn/criminalintent.html', '/lyrics/robyn/ushouldknowbetter.html', '/lyrics/robyn/indestructibleacousticversion.html', '/lyrics/robyn/fembot114519.html', '/lyrics/robyn/dontfuckingtellmewhattodo114520.html', '/lyrics/robyn/dancingonmyown114521.html', '/lyrics/robyn/indestructible.html', '/lyrics/robyn/timemachine.html', '/lyrics/robyn/lovekills114524.html', '/lyrics/robyn/hangwithme114525.html', '/lyrics/robyn/callyourgirlfriend.html', '/lyrics/robyn/noneofdem114527.html', '/lyrics/robyn/wedancetothebeat114528.html', '/lyrics/robyn/ushouldknowbetter114529.html', '/lyrics/robyn/dancehallqueen114530.html', '/lyrics/robyn/getmyselftogether.html', '/lyrics/robyn/inmyeyes114532.html', '/lyrics/robyn/stars4ever.html', '/lyrics/robyn/monument.html', '/lyrics/robyn/sayit.html', '/lyrics/robyn/doitagain.html', '/lyrics/robyn/everylittlething.html', '/lyrics/robyn/losecontrol.html', '/lyrics/robyn/loveisfree.html', '/lyrics/robyn/gottoworkitout.html', '/lyrics/robyn/setmefree.html', '/lyrics/robyn/tellyoutoday.html', '/lyrics/robyn/missingu.html', '/lyrics/robyn/humanbeing.html', '/lyrics/robyn/becauseitsinthemusic.html', '/lyrics/robyn/babyforgiveme.html', '/lyrics/robyn/sendtorobinimmediately.html', '/lyrics/robyn/honey.html', '/lyrics/robyn/betweenthelines.html', '/lyrics/robyn/beach2k20.html', '/lyrics/robyn/everagain.html', '/lyrics/robyn/buffalostance.html'], 'cher': ['/lyrics/cher/allireallywanttodo.html', '/lyrics/cher/igotosleep.html', '/lyrics/cher/needlesandpins.html', '/lyrics/cher/dontthinktwice.html', '/lyrics/cher/dreambaby.html', '/lyrics/cher/thebellsofrhymney.html', '/lyrics/cher/girldontcome.html', '/lyrics/cher/comeandstaywithme.html', '/lyrics/cher/crymyselftosleep.html', '/lyrics/cher/blowininthewind.html', '/lyrics/cher/bangbangmybabyshotmedown.html', '/lyrics/cher/ayounggirluneenfante.html', '/lyrics/cher/wheredoyougo.html', '/lyrics/cher/ourdaywillcome.html', '/lyrics/cher/elusivebutterfly.html', '/lyrics/cher/likearollingstone.html', '/lyrics/cher/olmanriver.html', '/lyrics/cher/cometoyourwindow.html', '/lyrics/cher/thegirlfromipanema.html', '/lyrics/cher/itsnotunusual.html', '/lyrics/cher/time.html', '/lyrics/cher/milord.html', '/lyrics/cher/sunny.html', '/lyrics/cher/thetwelfthofnever.html', '/lyrics/cher/youdonthavetosayyouloveme.html', '/lyrics/cher/ifeelsomethingintheairmagicintheair.html', '/lyrics/cher/willyoulovemetomorrow.html', '/lyrics/cher/untilitstimeforyoutogo.html', '/lyrics/cher/thecruelwar.html', '/lyrics/cher/catchthewind.html', '/lyrics/cher/piedpiper.html', '/lyrics/cher/homewardbound.html', '/lyrics/cher/iwantyou.html', '/lyrics/cher/alfie.html', '/lyrics/cher/youbettersitdownkids.html', '/lyrics/cher/buticantloveyoumore.html', '/lyrics/cher/heyjoe.html', '/lyrics/cher/mamawhenmydollieshavebabies.html', '/lyrics/cher/behindthedoor.html', '/lyrics/cher/singforyoursupper.html', '/lyrics/cher/lookatme.html', '/lyrics/cher/therebutforfortune.html', '/lyrics/cher/iwillwaitforyou.html', '/lyrics/cher/thetimestheyareachangin.html', '/lyrics/cher/gonow.html', '/lyrics/cher/carnival.html', '/lyrics/cher/italladdsupnow.html', '/lyrics/cher/takemeforalittlewhile.html', '/lyrics/cher/reasontobelieve.html', '/lyrics/cher/mastersofwar.html', '/lyrics/cher/doyoubelieveinmagic.html', '/lyrics/cher/iwasntready.html', '/lyrics/cher/houseisnotahome.html', '/lyrics/cher/clicksong.html', '/lyrics/cher/impossibledream.html', '/lyrics/cher/songcalledchildren.html', '/lyrics/cher/forwhatitsworth.html', '/lyrics/cher/justenoughtokeepmehanginon.html', '/lyrics/cher/sittinonthedockofthebay.html', '/lyrics/cher/tonightillbestayingherewithyou.html', '/lyrics/cher/ithrewitallaway.html', '/lyrics/cher/iwalkonguildedsplinters.html', '/lyrics/cher/laybabylay.html', '/lyrics/cher/pleasedonttellme.html', '/lyrics/cher/crylikeababy.html', '/lyrics/cher/dorightwomandorightman.html', '/lyrics/cher/savethechildren.html', '/lyrics/cher/easytobehard.html', '/lyrics/cher/ibelieve.html', '/lyrics/cher/dannyboy.html', '/lyrics/cher/mommalooksharp.html', '/lyrics/cher/itgetsmewhereiwanttogo.html', '/lyrics/cher/youvemademesoveryhappy.html', '/lyrics/cher/yoursuntiltomorrow.html', '/lyrics/cher/thethoughtoflovingyou.html', '/lyrics/cher/thefirsttime.html', '/lyrics/cher/chastityssongbandofthieves.html', '/lyrics/cher/superstar.html', '/lyrics/cher/thewayoflove.html', '/lyrics/cher/gypsiestrampsandthieves.html', '/lyrics/cher/hellneverknow.html', '/lyrics/cher/fireandrain.html', '/lyrics/cher/whenyoufindoutwhereyouregoinletmeknow.html', '/lyrics/cher/heaintheavyhesmybrother.html', '/lyrics/cher/ihatetosleepalone.html', '/lyrics/cher/iminthemiddle.html', '/lyrics/cher/touchandgo.html', '/lyrics/cher/onehonestman.html', '/lyrics/cher/livinginahousedivided.html', '/lyrics/cher/itmightaswellstaymondayfromnowon.html', '/lyrics/cher/songforyou.html', '/lyrics/cher/downdowndown.html', '/lyrics/cher/donttrytoclosearose.html', '/lyrics/cher/thefirsttime.html', '/lyrics/cher/letmedowneasy.html', '/lyrics/cher/ifiknewthen.html', '/lyrics/cher/donthideyourlove.html', '/lyrics/cher/neverbeentospain.html', '/lyrics/cher/bymyself.html', '/lyrics/cher/igotitbadandthataintgood.html', '/lyrics/cher/amiblue.html', '/lyrics/cher/howlonghasthisbeengoingon.html', '/lyrics/cher/themanilove.html', '/lyrics/cher/jolsonmedley.html', '/lyrics/cher/morethanyouknow.html', '/lyrics/cher/whywasiborn.html', '/lyrics/cher/themanthatgotaway.html', '/lyrics/cher/mylove.html', '/lyrics/cher/twopeopleclingingtoathread.html', '/lyrics/cher/halfbreed.html', '/lyrics/cher/thegreatestsongieverheard.html', '/lyrics/cher/howcanyoumendabrokenheart.html', '/lyrics/cher/carouselman.html', '/lyrics/cher/davidssong.html', '/lyrics/cher/melody.html', '/lyrics/cher/thelongandwindingroad.html', '/lyrics/cher/thisgodforsakenday.html', '/lyrics/cher/chastitysun.html', '/lyrics/cher/trainofthought.html', '/lyrics/cher/isawamanandhedancedwithhiswife.html', '/lyrics/cher/makethemanloveme.html', '/lyrics/cher/justwhativebeenlookinfor.html', '/lyrics/cher/darklady.html', '/lyrics/cher/misssubwayof1952.html', '/lyrics/cher/dixiegirl.html', '/lyrics/cher/rescueme.html', '/lyrics/cher/whatllido.html', '/lyrics/cher/applesdontfallfarfromthetree.html', '/lyrics/cher/loveenough.html', '/lyrics/cher/bellbottomblues.html', '/lyrics/cher/thesedays.html', '/lyrics/cher/mrsoul.html', '/lyrics/cher/justthisonetime.html', '/lyrics/cher/geronimoscadillac.html', '/lyrics/cher/thebiggertheycomethehardertheyfall.html', '/lyrics/cher/lovehurts312103.html', '/lyrics/cher/rockandrolldoctor.html', '/lyrics/cher/stars.html', '/lyrics/cher/longdistanceloveaffair.html', '/lyrics/cher/idratherbelieveinyou.html', '/lyrics/cher/iknowyoudontloveme.html', '/lyrics/cher/silverwingsgoldenrings.html', '/lyrics/cher/flashback.html', '/lyrics/cher/itsacryinshame.html', '/lyrics/cher/earlymorningstrangers.html', '/lyrics/cher/knockonwood.html', '/lyrics/cher/spring.html', '/lyrics/cher/borrowedtime.html', '/lyrics/cher/pirate.html', '/lyrics/cher/hewasbeautiful.html', '/lyrics/cher/warpaintandsoftfeathers.html', '/lyrics/cher/lovethedeviloutofya.html', '/lyrics/cher/shelovestohearthemusic.html', '/lyrics/cher/laplane.html', '/lyrics/cher/again.html', '/lyrics/cher/dixie.html', '/lyrics/cher/sendthemanover.html', '/lyrics/cher/thunderstorm.html', 'https://www.azlyrics.com/lyrics/greggallman/moveme.html', 'https://www.azlyrics.com/lyrics/greggallman/ifoundyoulove.html', 'https://www.azlyrics.com/lyrics/greggallman/canyoufool.html', 'https://www.azlyrics.com/lyrics/greggallman/youvereallygotaholdonme.html', 'https://www.azlyrics.com/lyrics/greggallman/weregonnamakeit.html', 'https://www.azlyrics.com/lyrics/greggallman/dowhatyougottado.html', 'https://www.azlyrics.com/lyrics/greggallman/inforthenight.html', 'https://www.azlyrics.com/lyrics/greggallman/shadowdreamsong.html', 'https://www.azlyrics.com/lyrics/greggallman/island.html', 'https://www.azlyrics.com/lyrics/greggallman/ilovemakinlovetoyou.html', 'https://www.azlyrics.com/lyrics/greggallman/loveme.html', '/lyrics/cher/prisoner.html', '/lyrics/cher/holdinoutforlove.html', '/lyrics/cher/shoppin.html', '/lyrics/cher/boysandgirls.html', '/lyrics/cher/mirrorimage.html', '/lyrics/cher/hellonwheels.html', '/lyrics/cher/holysmoke.html', '/lyrics/cher/outrageous.html', '/lyrics/cher/takemehome.html', '/lyrics/cher/wasntitgood.html', '/lyrics/cher/saytheword.html', '/lyrics/cher/happywasthedaywemet.html', '/lyrics/cher/gitdownguitargroupie.html', '/lyrics/cher/lovepaintheresapaininmyheart.html', '/lyrics/cher/letthisbealessontoyou.html', '/lyrics/cher/itstoolatetolovemenow.html', '/lyrics/cher/mysongtoofargone.html', '/lyrics/cher/nevershouldvestarted.html', '/lyrics/cher/julie.html', '/lyrics/cher/takeitfromtheboys.html', '/lyrics/cher/weallflyhome.html', '/lyrics/cher/88degrees.html', '/lyrics/cher/youknowit.html', '/lyrics/cher/youngandpretty.html', '/lyrics/cher/fastcompany.html', '/lyrics/cher/rudy.html', '/lyrics/cher/games.html', '/lyrics/cher/iparalyze.html', '/lyrics/cher/whentheloveisgone.html', '/lyrics/cher/saywhatsonyourmind.html', '/lyrics/cher/backonthestreetagain.html', '/lyrics/cher/walkwithme.html', '/lyrics/cher/thebookoflove.html', '/lyrics/cher/doievercrossyourmind.html', '/lyrics/cher/ifoundsomeone.html', '/lyrics/cher/weallsleepalone.html', '/lyrics/cher/bangbang.html', '/lyrics/cher/mainman.html', '/lyrics/cher/giveourloveafightinchance.html', '/lyrics/cher/perfection.html', '/lyrics/cher/dangeroustimes.html', '/lyrics/cher/skindeep.html', '/lyrics/cher/workinggirl.html', '/lyrics/cher/hardenoughgettingoveryou.html', '/lyrics/cher/ificouldturnbacktime.html', '/lyrics/cher/justlikejessejames.html', '/lyrics/cher/youwouldntknowlove.html', '/lyrics/cher/heartofstone.html', '/lyrics/cher/stillinlovewithyou.html', '/lyrics/cher/loveonarooftop.html', '/lyrics/cher/emotionalfire.html', '/lyrics/cher/allbecauseofyou.html', '/lyrics/cher/doesanybodyreallyfallinloveanymore.html', '/lyrics/cher/startingover.html', '/lyrics/cher/kisstokiss.html', '/lyrics/cher/afterall.html', '/lyrics/cher/saveupallyourtears.html', '/lyrics/cher/lovehurts.html', '/lyrics/cher/loveandunderstanding.html', '/lyrics/cher/firesofeden.html', '/lyrics/cher/illneverstoplovingyou.html', '/lyrics/cher/onesmallstep.html', '/lyrics/cher/aworldwithoutheroes.html', '/lyrics/cher/couldvebeenyou.html', '/lyrics/cher/whenlovecallsyourname.html', '/lyrics/cher/whenloversbecomestrangers.html', '/lyrics/cher/whoyougonnabelieve.html', '/lyrics/cher/theshoopshoopsongitsinhiskiss.html', '/lyrics/cher/walkinginmemphis.html', '/lyrics/cher/notenoughloveintheworld.html', '/lyrics/cher/onebyone.html', '/lyrics/cher/iwouldnttreatadogthewayyoutreatedme.html', '/lyrics/cher/angelsrunning.html', '/lyrics/cher/paradiseishere.html', '/lyrics/cher/imblowinaway.html', '/lyrics/cher/dontcomearoundtonight.html', '/lyrics/cher/whataboutthemoonlight.html', '/lyrics/cher/thesamemistake.html', '/lyrics/cher/thegunman.html', '/lyrics/cher/thesunaintgonnashineanymore.html', '/lyrics/cher/shapeofthingstocome.html', '/lyrics/cher/itsamansmansmansworld.html', '/lyrics/cher/believe.html', '/lyrics/cher/thepower.html', '/lyrics/cher/runaway.html', '/lyrics/cher/allornothing.html', '/lyrics/cher/strongenough.html', '/lyrics/cher/dovelamore.html', '/lyrics/cher/takinbackmyheart.html', '/lyrics/cher/taxitaxi.html', '/lyrics/cher/loveisthegroove.html', '/lyrics/cher/weallsleepalone.html', '/lyrics/cher/still.html', '/lyrics/cher/sistersofmercy.html', '/lyrics/cher/runnin.html', '/lyrics/cher/bornwiththehunger.html', '/lyrics/cher/thefallkurtsblues.html', '/lyrics/cher/withorwithoutyou.html', '/lyrics/cher/fittofly.html', '/lyrics/cher/disastercake.html', '/lyrics/cher/ourladyofsanfrancisco.html', '/lyrics/cher/classified1a.html', '/lyrics/cher/thisisasongforthelonely.html', '/lyrics/cher/adifferentkindoflovesong.html', '/lyrics/cher/aliveagain.html', '/lyrics/cher/themusicsnogoodwithoutyou.html', '/lyrics/cher/rainrain.html', '/lyrics/cher/reallove.html', '/lyrics/cher/lovesohigh.html', '/lyrics/cher/bodytobodyhearttoheart.html', '/lyrics/cher/loveisalonelyplacewithoutyou.html', '/lyrics/cher/loveoneanother.html', '/lyrics/cher/youtakeitall.html', '/lyrics/cher/whenthemoneysgone.html', '/lyrics/cher/womansworld.html', '/lyrics/cher/takeitlikeaman.html', '/lyrics/cher/mylove318663.html', '/lyrics/cher/dressedtokill.html', '/lyrics/cher/red.html', '/lyrics/cher/loversforever.html', '/lyrics/cher/iwalkalone.html', '/lyrics/cher/sirens.html', '/lyrics/cher/favouritescars.html', '/lyrics/cher/ihopeyoufindit.html', '/lyrics/cher/lietome.html', '/lyrics/cher/idonthavetosleeptodream.html', '/lyrics/cher/pride.html', '/lyrics/cher/youhaventseenthelastofme.html', '/lyrics/cher/willyouwaitforme.html', '/lyrics/cher/dancingqueen.html', '/lyrics/cher/gimmegimmegimmeamanaftermidnight.html', '/lyrics/cher/thenameofthegame.html', '/lyrics/cher/sos.html', '/lyrics/cher/waterloo.html', '/lyrics/cher/mammamia.html', '/lyrics/cher/chiquitita.html', '/lyrics/cher/fernando710922.html', '/lyrics/cher/thewinnertakesitall.html', '/lyrics/cher/oneofus.html', '/lyrics/cher/awomansstory.html', '/lyrics/cher/chiquititaspanishversion.html', '/lyrics/cher/fernando.html', '/lyrics/cher/happinessisjustathingcalledjoe.html', '/lyrics/cher/igotyoubabe.html', '/lyrics/cher/oogaboo.html', '/lyrics/cher/thegreatestthing.html', '/lyrics/cher/walls.html', '/lyrics/cher/welcometoburlesque.html', '/lyrics/cher/whenyouwalkaway.html']})\n"
     ]
    }
   ],
   "source": [
    "print(lyrics_pages)"
   ]
  },
  {
   "cell_type": "markdown",
   "id": "011be6c6",
   "metadata": {},
   "source": [
    "## Part 2: Pulling Lyrics\n",
    "\n",
    "Now that we have the links to our lyrics pages, let's go scrape them! Here are the steps for this part. \n",
    "\n",
    "1. Create an empty folder in our repo called \"lyrics\". \n",
    "1. Iterate over the artists in `lyrics_pages`. \n",
    "1. Create a subfolder in lyrics with the artist's name. For instance, if the artist was Cher you'd have `lyrics/cher/` in your repo.\n",
    "1. Iterate over the pages. \n",
    "1. Request the page and extract the lyrics from the returned HTML file using BeautifulSoup.\n",
    "1. Use the function below, `generate_filename_from_url`, to create a filename based on the lyrics page, then write the lyrics to a text file with that name. \n"
   ]
  },
  {
   "cell_type": "code",
   "execution_count": 31,
   "id": "67693711",
   "metadata": {},
   "outputs": [],
   "source": [
    "def generate_filename_from_link(link) :\n",
    "    \n",
    "    if not link :\n",
    "        return None\n",
    "    \n",
    "    # drop the http or https and the html\n",
    "    name = link.replace(\"https\",\"\").replace(\"http\",\"\")\n",
    "    name = link.replace(\".html\",\"\")\n",
    "\n",
    "    name = name.replace(\"/lyrics/\",\"\")\n",
    "    \n",
    "    # Replace useless chareacters with UNDERSCORE\n",
    "    name = name.replace(\"://\",\"\").replace(\".\",\"_\").replace(\"/\",\"_\")\n",
    "    \n",
    "    # tack on .txt\n",
    "    name = name + \".txt\"\n",
    "    \n",
    "    return(name)\n"
   ]
  },
  {
   "cell_type": "code",
   "execution_count": 32,
   "id": "94a78c78",
   "metadata": {},
   "outputs": [],
   "source": [
    "# Make the lyrics folder here. If you'd like to practice your programming, add functionality \n",
    "# that checks to see if the folder exists. If it does, then use shutil.rmtree to remove it and create a new one.\n",
    "\n",
    "if os.path.isdir(\"lyrics\") : \n",
    "    shutil.rmtree(\"lyrics/\")\n",
    "\n",
    "os.mkdir(\"lyrics\")"
   ]
  },
  {
   "cell_type": "code",
   "execution_count": 164,
   "id": "d655b687",
   "metadata": {},
   "outputs": [
    {
     "name": "stdout",
     "output_type": "stream",
     "text": [
      "Folder Already Exists\n",
      "Web Scraping Currently:  /lyrics/robyn/bumpyride.html\n",
      "Web Scraping Currently:  /lyrics/robyn/inmyheart.html\n",
      "Web Scraping Currently:  /lyrics/robyn/youvegotthatsomething.html\n",
      "Web Scraping Currently:  /lyrics/robyn/doyouknowwhatittakes.html\n",
      "Web Scraping Currently:  /lyrics/robyn/thelasttime.html\n",
      "Web Scraping Currently:  /lyrics/robyn/justanothergirlfriend.html\n",
      "Web Scraping Currently:  /lyrics/robyn/dontwantyouback.html\n",
      "Web Scraping Currently:  /lyrics/robyn/doyoureallywantmeshowrespect.html\n",
      "Web Scraping Currently:  /lyrics/robyn/how.html\n",
      "Web Scraping Currently:  /lyrics/robyn/herewego.html\n",
      "Web Scraping Currently:  /lyrics/robyn/wheredidourlovego.html\n",
      "Web Scraping Currently:  /lyrics/robyn/robynishere.html\n",
      "Web Scraping Currently:  /lyrics/robyn/iwish.html\n",
      "Web Scraping Currently:  /lyrics/robyn/showmelove.html\n",
      "Web Scraping Currently:  /lyrics/robyn/play.html\n",
      "Web Scraping Currently:  /lyrics/robyn/myonlyreason.html\n",
      "Web Scraping Currently:  /lyrics/robyn/underneaththeheart.html\n",
      "Web Scraping Currently:  /lyrics/robyn/electric.html\n",
      "Web Scraping Currently:  /lyrics/robyn/mytruth.html\n",
      "Web Scraping Currently:  /lyrics/robyn/mainthing.html\n",
      "Web Scraping Currently:  /lyrics/robyn/healthylove.html\n",
      "Web Scraping Currently:  /lyrics/robyn/mondaymorning.html\n",
      "Web Scraping Currently:  /lyrics/robyn/givingyouback.html\n",
      "Web Scraping Currently:  /lyrics/robyn/88days.html\n",
      "Web Scraping Currently:  /lyrics/robyn/longgone.html\n",
      "Web Scraping Currently:  /lyrics/robyn/notontheinside.html\n",
      "Web Scraping Currently:  /lyrics/robyn/universalwoman.html\n",
      "Web Scraping Currently:  /lyrics/robyn/keepthisfireburning.html\n",
      "Web Scraping Currently:  /lyrics/robyn/dontstopthemusic.html\n",
      "Web Scraping Currently:  /lyrics/robyn/obaby.html\n",
      "Web Scraping Currently:  /lyrics/robyn/blowmymind.html\n",
      "Web Scraping Currently:  /lyrics/robyn/shouldhaveknown106828.html\n",
      "Web Scraping Currently:  /lyrics/robyn/moonlight.html\n",
      "Web Scraping Currently:  /lyrics/robyn/breakdownintermission.html\n",
      "Web Scraping Currently:  /lyrics/robyn/aintnothing.html\n",
      "Web Scraping Currently:  /lyrics/robyn/bigcity.html\n",
      "Web Scraping Currently:  /lyrics/robyn/psycho.html\n",
      "Web Scraping Currently:  /lyrics/robyn/stillyourgirl.html\n",
      "Web Scraping Currently:  /lyrics/robyn/curriculumvitae.html\n",
      "Web Scraping Currently:  /lyrics/robyn/konichiwabitches.html\n",
      "Web Scraping Currently:  /lyrics/robyn/cobrastyle.html\n",
      "Web Scraping Currently:  /lyrics/robyn/handleme.html\n",
      "Web Scraping Currently:  /lyrics/robyn/bumlikeyou.html\n",
      "Web Scraping Currently:  /lyrics/robyn/bemine.html\n",
      "Web Scraping Currently:  /lyrics/robyn/witheveryheartbeat.html\n",
      "Web Scraping Currently:  /lyrics/robyn/whosthatgirl.html\n",
      "Web Scraping Currently:  /lyrics/robyn/bionicwoman.html\n",
      "Web Scraping Currently:  /lyrics/robyn/crashandburngirl.html\n",
      "Web Scraping Currently:  /lyrics/robyn/robotboy.html\n",
      "Web Scraping Currently:  /lyrics/robyn/eclipse.html\n",
      "Web Scraping Currently:  /lyrics/robyn/shouldhaveknown.html\n",
      "Web Scraping Currently:  /lyrics/robyn/anytimeyoulike.html\n",
      "Web Scraping Currently:  /lyrics/robyn/jackuoff.html\n",
      "Web Scraping Currently:  /lyrics/robyn/tomteverkstan.html\n",
      "Web Scraping Currently:  /lyrics/robyn/dontfuckingtellmewhattodo.html\n",
      "Web Scraping Currently:  /lyrics/robyn/fembot.html\n",
      "Web Scraping Currently:  /lyrics/robyn/dancingonmyown.html\n",
      "Web Scraping Currently:  /lyrics/robyn/crywhenyougetolder.html\n",
      "Web Scraping Currently:  /lyrics/robyn/dancehallqueen.html\n",
      "Web Scraping Currently:  /lyrics/robyn/noneofdem.html\n",
      "Web Scraping Currently:  /lyrics/robyn/hangwithmeacousticversion.html\n",
      "Web Scraping Currently:  /lyrics/robyn/jagvetendejligrosa.html\n",
      "Web Scraping Currently:  /lyrics/robyn/inmyeyes.html\n",
      "Web Scraping Currently:  /lyrics/robyn/includemeout.html\n",
      "Web Scraping Currently:  /lyrics/robyn/hangwithme.html\n",
      "Web Scraping Currently:  /lyrics/robyn/lovekills.html\n",
      "Web Scraping Currently:  /lyrics/robyn/wedancetothebeat.html\n",
      "Web Scraping Currently:  /lyrics/robyn/criminalintent.html\n",
      "Web Scraping Currently:  /lyrics/robyn/ushouldknowbetter.html\n",
      "Web Scraping Currently:  /lyrics/robyn/indestructibleacousticversion.html\n",
      "Web Scraping Currently:  /lyrics/robyn/fembot114519.html\n",
      "Web Scraping Currently:  /lyrics/robyn/dontfuckingtellmewhattodo114520.html\n",
      "Web Scraping Currently:  /lyrics/robyn/dancingonmyown114521.html\n",
      "Web Scraping Currently:  /lyrics/robyn/indestructible.html\n",
      "Web Scraping Currently:  /lyrics/robyn/timemachine.html\n",
      "Web Scraping Currently:  /lyrics/robyn/lovekills114524.html\n",
      "Web Scraping Currently:  /lyrics/robyn/hangwithme114525.html\n",
      "Web Scraping Currently:  /lyrics/robyn/callyourgirlfriend.html\n",
      "Web Scraping Currently:  /lyrics/robyn/noneofdem114527.html\n",
      "Web Scraping Currently:  /lyrics/robyn/wedancetothebeat114528.html\n",
      "Web Scraping Currently:  /lyrics/robyn/ushouldknowbetter114529.html\n",
      "Web Scraping Currently:  /lyrics/robyn/dancehallqueen114530.html\n",
      "Web Scraping Currently:  /lyrics/robyn/getmyselftogether.html\n",
      "Web Scraping Currently:  /lyrics/robyn/inmyeyes114532.html\n",
      "Web Scraping Currently:  /lyrics/robyn/stars4ever.html\n",
      "Web Scraping Currently:  /lyrics/robyn/monument.html\n",
      "Web Scraping Currently:  /lyrics/robyn/sayit.html\n",
      "Web Scraping Currently:  /lyrics/robyn/doitagain.html\n",
      "Web Scraping Currently:  /lyrics/robyn/everylittlething.html\n",
      "Web Scraping Currently:  /lyrics/robyn/losecontrol.html\n",
      "Web Scraping Currently:  /lyrics/robyn/loveisfree.html\n",
      "Web Scraping Currently:  /lyrics/robyn/gottoworkitout.html\n",
      "Web Scraping Currently:  /lyrics/robyn/setmefree.html\n",
      "Web Scraping Currently:  /lyrics/robyn/tellyoutoday.html\n",
      "Web Scraping Currently:  /lyrics/robyn/missingu.html\n",
      "Web Scraping Currently:  /lyrics/robyn/humanbeing.html\n",
      "Web Scraping Currently:  /lyrics/robyn/becauseitsinthemusic.html\n",
      "Web Scraping Currently:  /lyrics/robyn/babyforgiveme.html\n",
      "Web Scraping Currently:  /lyrics/robyn/sendtorobinimmediately.html\n",
      "Web Scraping Currently:  /lyrics/robyn/honey.html\n",
      "Web Scraping Currently:  /lyrics/robyn/betweenthelines.html\n",
      "Web Scraping Currently:  /lyrics/robyn/beach2k20.html\n",
      "Web Scraping Currently:  /lyrics/robyn/everagain.html\n",
      "Web Scraping Currently:  /lyrics/robyn/buffalostance.html\n",
      "Folder Already Exists\n",
      "Web Scraping Currently:  /lyrics/cher/allireallywanttodo.html\n",
      "Web Scraping Currently:  /lyrics/cher/igotosleep.html\n",
      "Web Scraping Currently:  /lyrics/cher/needlesandpins.html\n",
      "Web Scraping Currently:  /lyrics/cher/dontthinktwice.html\n",
      "Web Scraping Currently:  /lyrics/cher/dreambaby.html\n",
      "Web Scraping Currently:  /lyrics/cher/thebellsofrhymney.html\n",
      "Web Scraping Currently:  /lyrics/cher/girldontcome.html\n",
      "Web Scraping Currently:  /lyrics/cher/comeandstaywithme.html\n",
      "Web Scraping Currently:  /lyrics/cher/crymyselftosleep.html\n",
      "Web Scraping Currently:  /lyrics/cher/blowininthewind.html\n",
      "Web Scraping Currently:  /lyrics/cher/bangbangmybabyshotmedown.html\n",
      "Web Scraping Currently:  /lyrics/cher/ayounggirluneenfante.html\n",
      "Web Scraping Currently:  /lyrics/cher/wheredoyougo.html\n",
      "Web Scraping Currently:  /lyrics/cher/ourdaywillcome.html\n",
      "Web Scraping Currently:  /lyrics/cher/elusivebutterfly.html\n",
      "Web Scraping Currently:  /lyrics/cher/likearollingstone.html\n",
      "Web Scraping Currently:  /lyrics/cher/olmanriver.html\n",
      "Web Scraping Currently:  /lyrics/cher/cometoyourwindow.html\n",
      "Web Scraping Currently:  /lyrics/cher/thegirlfromipanema.html\n",
      "Web Scraping Currently:  /lyrics/cher/itsnotunusual.html\n",
      "Web Scraping Currently:  /lyrics/cher/time.html\n",
      "Web Scraping Currently:  /lyrics/cher/milord.html\n",
      "Web Scraping Currently:  /lyrics/cher/sunny.html\n",
      "Web Scraping Currently:  /lyrics/cher/thetwelfthofnever.html\n",
      "Web Scraping Currently:  /lyrics/cher/youdonthavetosayyouloveme.html\n",
      "Web Scraping Currently:  /lyrics/cher/ifeelsomethingintheairmagicintheair.html\n",
      "Web Scraping Currently:  /lyrics/cher/willyoulovemetomorrow.html\n",
      "Web Scraping Currently:  /lyrics/cher/untilitstimeforyoutogo.html\n",
      "Web Scraping Currently:  /lyrics/cher/thecruelwar.html\n",
      "Web Scraping Currently:  /lyrics/cher/catchthewind.html\n",
      "Web Scraping Currently:  /lyrics/cher/piedpiper.html\n",
      "Web Scraping Currently:  /lyrics/cher/homewardbound.html\n",
      "Web Scraping Currently:  /lyrics/cher/iwantyou.html\n",
      "Web Scraping Currently:  /lyrics/cher/alfie.html\n",
      "Web Scraping Currently:  /lyrics/cher/youbettersitdownkids.html\n",
      "Web Scraping Currently:  /lyrics/cher/buticantloveyoumore.html\n",
      "Web Scraping Currently:  /lyrics/cher/heyjoe.html\n",
      "Web Scraping Currently:  /lyrics/cher/mamawhenmydollieshavebabies.html\n",
      "Web Scraping Currently:  /lyrics/cher/behindthedoor.html\n",
      "Web Scraping Currently:  /lyrics/cher/singforyoursupper.html\n",
      "Web Scraping Currently:  /lyrics/cher/lookatme.html\n",
      "Web Scraping Currently:  /lyrics/cher/therebutforfortune.html\n",
      "Web Scraping Currently:  /lyrics/cher/iwillwaitforyou.html\n",
      "Web Scraping Currently:  /lyrics/cher/thetimestheyareachangin.html\n",
      "Web Scraping Currently:  /lyrics/cher/gonow.html\n",
      "Web Scraping Currently:  /lyrics/cher/carnival.html\n",
      "Web Scraping Currently:  /lyrics/cher/italladdsupnow.html\n",
      "Web Scraping Currently:  /lyrics/cher/takemeforalittlewhile.html\n",
      "Web Scraping Currently:  /lyrics/cher/reasontobelieve.html\n",
      "Web Scraping Currently:  /lyrics/cher/mastersofwar.html\n",
      "Web Scraping Currently:  /lyrics/cher/doyoubelieveinmagic.html\n",
      "Web Scraping Currently:  /lyrics/cher/iwasntready.html\n",
      "Web Scraping Currently:  /lyrics/cher/houseisnotahome.html\n",
      "Web Scraping Currently:  /lyrics/cher/clicksong.html\n",
      "Web Scraping Currently:  /lyrics/cher/impossibledream.html\n",
      "Web Scraping Currently:  /lyrics/cher/songcalledchildren.html\n",
      "Web Scraping Currently:  /lyrics/cher/forwhatitsworth.html\n",
      "Web Scraping Currently:  /lyrics/cher/justenoughtokeepmehanginon.html\n",
      "Web Scraping Currently:  /lyrics/cher/sittinonthedockofthebay.html\n",
      "Web Scraping Currently:  /lyrics/cher/tonightillbestayingherewithyou.html\n",
      "Web Scraping Currently:  /lyrics/cher/ithrewitallaway.html\n",
      "Web Scraping Currently:  /lyrics/cher/iwalkonguildedsplinters.html\n",
      "Web Scraping Currently:  /lyrics/cher/laybabylay.html\n",
      "Web Scraping Currently:  /lyrics/cher/pleasedonttellme.html\n",
      "Web Scraping Currently:  /lyrics/cher/crylikeababy.html\n",
      "Web Scraping Currently:  /lyrics/cher/dorightwomandorightman.html\n",
      "Web Scraping Currently:  /lyrics/cher/savethechildren.html\n",
      "Web Scraping Currently:  /lyrics/cher/easytobehard.html\n",
      "Web Scraping Currently:  /lyrics/cher/ibelieve.html\n",
      "Web Scraping Currently:  /lyrics/cher/dannyboy.html\n",
      "Web Scraping Currently:  /lyrics/cher/mommalooksharp.html\n",
      "Web Scraping Currently:  /lyrics/cher/itgetsmewhereiwanttogo.html\n",
      "Web Scraping Currently:  /lyrics/cher/youvemademesoveryhappy.html\n",
      "Web Scraping Currently:  /lyrics/cher/yoursuntiltomorrow.html\n",
      "Web Scraping Currently:  /lyrics/cher/thethoughtoflovingyou.html\n",
      "Web Scraping Currently:  /lyrics/cher/thefirsttime.html\n",
      "Web Scraping Currently:  /lyrics/cher/chastityssongbandofthieves.html\n",
      "Web Scraping Currently:  /lyrics/cher/superstar.html\n",
      "Web Scraping Currently:  /lyrics/cher/thewayoflove.html\n",
      "Web Scraping Currently:  /lyrics/cher/gypsiestrampsandthieves.html\n",
      "Web Scraping Currently:  /lyrics/cher/hellneverknow.html\n",
      "Web Scraping Currently:  /lyrics/cher/fireandrain.html\n",
      "Web Scraping Currently:  /lyrics/cher/whenyoufindoutwhereyouregoinletmeknow.html\n",
      "Web Scraping Currently:  /lyrics/cher/heaintheavyhesmybrother.html\n",
      "Web Scraping Currently:  /lyrics/cher/ihatetosleepalone.html\n",
      "Web Scraping Currently:  /lyrics/cher/iminthemiddle.html\n",
      "Web Scraping Currently:  /lyrics/cher/touchandgo.html\n",
      "Web Scraping Currently:  /lyrics/cher/onehonestman.html\n",
      "Web Scraping Currently:  /lyrics/cher/livinginahousedivided.html\n",
      "Web Scraping Currently:  /lyrics/cher/itmightaswellstaymondayfromnowon.html\n",
      "Web Scraping Currently:  /lyrics/cher/songforyou.html\n",
      "Web Scraping Currently:  /lyrics/cher/downdowndown.html\n",
      "Web Scraping Currently:  /lyrics/cher/donttrytoclosearose.html\n"
     ]
    },
    {
     "ename": "KeyboardInterrupt",
     "evalue": "",
     "output_type": "error",
     "traceback": [
      "\u001b[0;31m---------------------------------------------------------------------------\u001b[0m",
      "\u001b[0;31mKeyboardInterrupt\u001b[0m                         Traceback (most recent call last)",
      "\u001b[0;32m<ipython-input-164-8b3c527ba375>\u001b[0m in \u001b[0;36m<module>\u001b[0;34m\u001b[0m\n\u001b[1;32m     21\u001b[0m         \u001b[0murl\u001b[0m \u001b[0;34m=\u001b[0m \u001b[0murl_stub\u001b[0m \u001b[0;34m+\u001b[0m \u001b[0mpage\u001b[0m\u001b[0;34m\u001b[0m\u001b[0;34m\u001b[0m\u001b[0m\n\u001b[1;32m     22\u001b[0m         \u001b[0mr\u001b[0m \u001b[0;34m=\u001b[0m \u001b[0mrequests\u001b[0m\u001b[0;34m.\u001b[0m\u001b[0mget\u001b[0m\u001b[0;34m(\u001b[0m\u001b[0murl\u001b[0m\u001b[0;34m)\u001b[0m\u001b[0;34m\u001b[0m\u001b[0;34m\u001b[0m\u001b[0m\n\u001b[0;32m---> 23\u001b[0;31m         \u001b[0mtime\u001b[0m\u001b[0;34m.\u001b[0m\u001b[0msleep\u001b[0m\u001b[0;34m(\u001b[0m\u001b[0;36m5\u001b[0m \u001b[0;34m+\u001b[0m \u001b[0;36m10\u001b[0m\u001b[0;34m*\u001b[0m\u001b[0mrandom\u001b[0m\u001b[0;34m.\u001b[0m\u001b[0mrandom\u001b[0m\u001b[0;34m(\u001b[0m\u001b[0;34m)\u001b[0m\u001b[0;34m)\u001b[0m\u001b[0;34m\u001b[0m\u001b[0;34m\u001b[0m\u001b[0m\n\u001b[0m\u001b[1;32m     24\u001b[0m \u001b[0;34m\u001b[0m\u001b[0m\n\u001b[1;32m     25\u001b[0m         \u001b[0;31m# Iteration\u001b[0m\u001b[0;34m\u001b[0m\u001b[0;34m\u001b[0m\u001b[0;34m\u001b[0m\u001b[0m\n",
      "\u001b[0;31mKeyboardInterrupt\u001b[0m: "
     ]
    }
   ],
   "source": [
    "url_stub = \"https://www.azlyrics.com\" \n",
    "start = time.time()\n",
    "\n",
    "pages = 0\n",
    "\n",
    "for artist, lyrics in lyrics_pages.items():\n",
    "\n",
    "    # Use this space to carry out the following steps: \n",
    "    \n",
    "    # 1. Build a subfolder for the artist\n",
    "    if os.path.exists(\"lyrics/\" + artist + \"/\") == True:\n",
    "        print(\"Folder Already Exists\")\n",
    "    else:\n",
    "        os.mkdir(\"/lyrics/\" + artist + \"/\")\n",
    "        \n",
    "    # 2. Iterate over the lyrics pages\n",
    "\n",
    "    for page in lyrics:\n",
    "        print(\"Web Scraping Currently: \", page)\n",
    "        # Join URL_Stub to Lyrics Pages\n",
    "        url = url_stub + page\n",
    "        r = requests.get(url)\n",
    "        time.sleep(5 + 10*random.random())\n",
    "\n",
    "        # Iteration\n",
    "        pages += 1\n",
    "\n",
    "        # 3. Request the lyrics page. \n",
    "        soup = BeautifulSoup(r.text, \"html.parser\")\n",
    "        \n",
    "        \n",
    "        # 4. Extract the title and lyrics from the page.\n",
    "        # Extract Title\n",
    "        title = soup.find_all(\"b\")[1].text.strip('\\\"').replace(\" \", \"_\")\n",
    "    \n",
    "        # Extract Lyrics\n",
    "        lyrics_file = soup.find(\"div\", attrs={\"class\": None, \"id\": None}).text\n",
    "        lyrics_file = lyrics_file.replace(\"\\n\", \" \").replace(\"\\r\", \" \")\n",
    "\n",
    "    \n",
    "    # 5. Write out the title, two returns ('\\n'), and the lyrics. Use `generate_filename_from_url` to generate the filename. \n",
    "        file_name = \"lyrics/\" + artist + \"/\" + generate_filename_from_link(title)\n",
    "        \n",
    "        if artist == \"robyn\":\n",
    "            output = str(title + \"\\n\" + \"\\n\" + lyrics_file)\n",
    "            with open(f\"{file_name}\", \"w+\") as file:\n",
    "                file.write(output)\n",
    "        else:\n",
    "            output = str(title + \"\\n\" + \"\\n\" + lyrics_file)\n",
    "            with open(f\"{file_name}\", \"w+\") as file:\n",
    "                file.write(output)\n",
    "    "
   ]
  },
  {
   "attachments": {},
   "cell_type": "markdown",
   "id": "b523beca",
   "metadata": {},
   "source": [
    "I ended up stopping the for loop as the plan was to run all the songs, but Cher has significantly more than expected. Met the 20 requirement."
   ]
  },
  {
   "cell_type": "code",
   "execution_count": 165,
   "id": "36c394f1",
   "metadata": {},
   "outputs": [
    {
     "name": "stdout",
     "output_type": "stream",
     "text": [
      "Total run time was 0.61 hours.\n"
     ]
    }
   ],
   "source": [
    "print(f\"Total run time was {round((time.time() - start)/3600,2)} hours.\")"
   ]
  },
  {
   "cell_type": "markdown",
   "id": "054cf14b",
   "metadata": {},
   "source": [
    "---\n",
    "\n",
    "# Evaluation\n",
    "\n",
    "This assignment asks you to pull data by scraping www.AZLyrics.com.  After you have finished the above sections , run all the cells in this notebook. Print this to PDF and submit it, per the instructions."
   ]
  },
  {
   "cell_type": "code",
   "execution_count": 166,
   "id": "217c2b0a",
   "metadata": {},
   "outputs": [],
   "source": [
    "# Simple word extractor from Peter Norvig: https://norvig.com/spell-correct.html\n",
    "def words(text): \n",
    "    return re.findall(r'\\w+', text.lower())"
   ]
  },
  {
   "cell_type": "markdown",
   "id": "37778a1c",
   "metadata": {},
   "source": [
    "## Checking Lyrics \n",
    "\n",
    "The output from your lyrics scrape should be stored in files located in this path from the directory:\n",
    "`/lyrics/[Artist Name]/[filename from URL]`. This code summarizes the information at a high level to help the instructor evaluate your work. "
   ]
  },
  {
   "cell_type": "code",
   "execution_count": 167,
   "id": "bccac29c",
   "metadata": {},
   "outputs": [
    {
     "name": "stdout",
     "output_type": "stream",
     "text": [
      "For robyn we have 93 files.\n",
      "For robyn we have roughly 26843 words, 2313 are unique.\n",
      "For cher we have 92 files.\n",
      "For cher we have roughly 16849 words, 1885 are unique.\n"
     ]
    }
   ],
   "source": [
    "artist_folders = os.listdir(\"lyrics/\")\n",
    "artist_folders = [f for f in artist_folders if os.path.isdir(\"lyrics/\" + f)]\n",
    "\n",
    "for artist in artist_folders : \n",
    "    artist_files = os.listdir(\"lyrics/\" + artist)\n",
    "    artist_files = [f for f in artist_files if 'txt' in f or 'csv' in f or 'tsv' in f]\n",
    "\n",
    "    print(f\"For {artist} we have {len(artist_files)} files.\")\n",
    "\n",
    "    artist_words = []\n",
    "\n",
    "    for f_name in artist_files : \n",
    "        with open(\"lyrics/\" + artist + \"/\" + f_name) as infile : \n",
    "            artist_words.extend(words(infile.read()))\n",
    "\n",
    "            \n",
    "    print(f\"For {artist} we have roughly {len(artist_words)} words, {len(set(artist_words))} are unique.\")\n"
   ]
  }
 ],
 "metadata": {
  "kernelspec": {
   "display_name": "Python 3 (ipykernel)",
   "language": "python",
   "name": "python3"
  },
  "language_info": {
   "codemirror_mode": {
    "name": "ipython",
    "version": 3
   },
   "file_extension": ".py",
   "mimetype": "text/x-python",
   "name": "python",
   "nbconvert_exporter": "python",
   "pygments_lexer": "ipython3",
   "version": "3.9.2"
  }
 },
 "nbformat": 4,
 "nbformat_minor": 5
}
